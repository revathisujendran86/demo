{
    "cells": [
        {
            "cell_type": "markdown",
            "metadata": {},
            "source": "Description Victims of Rape"
        },
        {
            "cell_type": "code",
            "execution_count": 1,
            "metadata": {},
            "outputs": [
                {
                    "data": {
                        "text/html": "<div>\n<style scoped>\n    .dataframe tbody tr th:only-of-type {\n        vertical-align: middle;\n    }\n\n    .dataframe tbody tr th {\n        vertical-align: top;\n    }\n\n    .dataframe thead th {\n        text-align: right;\n    }\n</style>\n<table border=\"1\" class=\"dataframe\">\n  <thead>\n    <tr style=\"text-align: right;\">\n      <th></th>\n      <th>Area_Name</th>\n      <th>Year</th>\n      <th>Subgroup</th>\n      <th>Rape_Cases_Reported</th>\n      <th>Victims_Above_50_Yrs</th>\n      <th>Victims_Between_10-14_Yrs</th>\n      <th>Victims_Between_14-18_Yrs</th>\n      <th>Victims_Between_18-30_Yrs</th>\n      <th>Victims_Between_30-50_Yrs</th>\n      <th>Victims_of_Rape_Total</th>\n      <th>Victims_Upto_10_Yrs</th>\n    </tr>\n  </thead>\n  <tbody>\n    <tr>\n      <th>0</th>\n      <td>Andaman &amp; Nicobar Islands</td>\n      <td>2001</td>\n      <td>Total Rape Victims</td>\n      <td>3</td>\n      <td>0</td>\n      <td>0</td>\n      <td>3</td>\n      <td>0</td>\n      <td>0</td>\n      <td>3</td>\n      <td>0</td>\n    </tr>\n    <tr>\n      <th>1</th>\n      <td>Andaman &amp; Nicobar Islands</td>\n      <td>2001</td>\n      <td>Victims of Incest Rape</td>\n      <td>1</td>\n      <td>0</td>\n      <td>0</td>\n      <td>1</td>\n      <td>0</td>\n      <td>0</td>\n      <td>1</td>\n      <td>0</td>\n    </tr>\n    <tr>\n      <th>2</th>\n      <td>Andaman &amp; Nicobar Islands</td>\n      <td>2001</td>\n      <td>Victims of Other Rape</td>\n      <td>2</td>\n      <td>0</td>\n      <td>0</td>\n      <td>2</td>\n      <td>0</td>\n      <td>0</td>\n      <td>2</td>\n      <td>0</td>\n    </tr>\n    <tr>\n      <th>3</th>\n      <td>Andaman &amp; Nicobar Islands</td>\n      <td>2002</td>\n      <td>Total Rape Victims</td>\n      <td>2</td>\n      <td>0</td>\n      <td>0</td>\n      <td>1</td>\n      <td>1</td>\n      <td>0</td>\n      <td>2</td>\n      <td>0</td>\n    </tr>\n    <tr>\n      <th>4</th>\n      <td>Andaman &amp; Nicobar Islands</td>\n      <td>2002</td>\n      <td>Victims of Incest Rape</td>\n      <td>0</td>\n      <td>0</td>\n      <td>0</td>\n      <td>0</td>\n      <td>0</td>\n      <td>0</td>\n      <td>0</td>\n      <td>0</td>\n    </tr>\n  </tbody>\n</table>\n</div>",
                        "text/plain": "                   Area_Name  Year                Subgroup  \\\n0  Andaman & Nicobar Islands  2001      Total Rape Victims   \n1  Andaman & Nicobar Islands  2001  Victims of Incest Rape   \n2  Andaman & Nicobar Islands  2001   Victims of Other Rape   \n3  Andaman & Nicobar Islands  2002      Total Rape Victims   \n4  Andaman & Nicobar Islands  2002  Victims of Incest Rape   \n\n   Rape_Cases_Reported  Victims_Above_50_Yrs  Victims_Between_10-14_Yrs  \\\n0                    3                     0                          0   \n1                    1                     0                          0   \n2                    2                     0                          0   \n3                    2                     0                          0   \n4                    0                     0                          0   \n\n   Victims_Between_14-18_Yrs  Victims_Between_18-30_Yrs  \\\n0                          3                          0   \n1                          1                          0   \n2                          2                          0   \n3                          1                          1   \n4                          0                          0   \n\n   Victims_Between_30-50_Yrs  Victims_of_Rape_Total  Victims_Upto_10_Yrs  \n0                          0                      3                    0  \n1                          0                      1                    0  \n2                          0                      2                    0  \n3                          0                      2                    0  \n4                          0                      0                    0  "
                    },
                    "execution_count": 1,
                    "metadata": {},
                    "output_type": "execute_result"
                }
            ],
            "source": "# The code was removed by Watson Studio for sharing."
        },
        {
            "cell_type": "code",
            "execution_count": null,
            "metadata": {},
            "outputs": [],
            "source": ""
        }
    ],
    "metadata": {
        "kernelspec": {
            "display_name": "Python 3.7",
            "language": "python",
            "name": "python3"
        },
        "language_info": {
            "codemirror_mode": {
                "name": "ipython",
                "version": 3
            },
            "file_extension": ".py",
            "mimetype": "text/x-python",
            "name": "python",
            "nbconvert_exporter": "python",
            "pygments_lexer": "ipython3",
            "version": "3.7.9"
        }
    },
    "nbformat": 4,
    "nbformat_minor": 1
}